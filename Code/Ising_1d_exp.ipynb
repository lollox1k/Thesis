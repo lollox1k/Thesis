{
 "cells": [
  {
   "cell_type": "code",
   "execution_count": 2,
   "metadata": {},
   "outputs": [],
   "source": [
    "import numpy as np \n",
    "import matplotlib.pyplot as plt"
   ]
  },
  {
   "cell_type": "code",
   "execution_count": 53,
   "metadata": {},
   "outputs": [
    {
     "name": "stdout",
     "output_type": "stream",
     "text": [
      "magnetization = -0.0625\n"
     ]
    },
    {
     "data": {
      "image/png": "[encoded data removed]",
      "text/plain": [
       "<Figure size 640x480 with 1 Axes>"
      ]
     },
     "metadata": {},
     "output_type": "display_data"
    }
   ],
   "source": [
    "grid = np.ones(128)\n",
    "beta = 0.7\n",
    "h = 1\n",
    "origin = 15 \n",
    "\n",
    "grid[0] = 1 if np.random.rand() <= 1 / ( 1 + np.exp(2*beta*h) ) else -1\n",
    "\n",
    "for i in range(1, len(grid)):\n",
    "    if grid[i-1] == 1:\n",
    "        if np.random.rand() <= 1 / ( 1 + np.exp(2*(beta + beta*h)) ):\n",
    "            grid[i] = -1 \n",
    "    else:\n",
    "        if np.random.rand() > 1 / ( 1 + np.exp(2*(beta + beta*h)) ):\n",
    "            grid[i] = -1\n",
    "        \n",
    "\n",
    "plt.imshow([grid])\n",
    "print(f'magnetization = {np.mean(grid)}')"
   ]
  },
  {
   "cell_type": "code",
   "execution_count": 32,
   "metadata": {},
   "outputs": [
    {
     "data": {
      "text/plain": [
       "0.9510129648758409"
      ]
     },
     "execution_count": 32,
     "metadata": {},
     "output_type": "execute_result"
    }
   ],
   "source": [
    "np.sinh(beta*h) / np.sqrt( np.cosh(beta*h)**2 - 2*np.exp(-2*beta)*np.sinh(2*beta) )"
   ]
  }
 ],
 "metadata": {
  "kernelspec": {
   "display_name": "Python 3",
   "language": "python",
   "name": "python3"
  },
  "language_info": {
   "codemirror_mode": {
    "name": "ipython",
    "version": 3
   },
   "file_extension": ".py",
   "mimetype": "text/x-python",
   "name": "python",
   "nbconvert_exporter": "python",
   "pygments_lexer": "ipython3",
   "version": "3.11.9"
  }
 },
 "nbformat": 4,
 "nbformat_minor": 2
}
